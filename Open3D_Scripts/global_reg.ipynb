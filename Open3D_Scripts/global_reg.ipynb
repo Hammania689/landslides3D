{
 "cells": [
  {
   "cell_type": "code",
   "execution_count": 2,
   "metadata": {
    "collapsed": true
   },
   "outputs": [],
   "source": [
    "from open3d import *\n",
    "import numpy as np\n",
    "import copy\n",
    "import matplotlib.pyplot as plt"
   ]
  },
  {
   "cell_type": "code",
   "execution_count": 3,
   "metadata": {
    "collapsed": true
   },
   "outputs": [],
   "source": [
    "def draw_registration_result(source, target, transformation):\n",
    "    # Deep copy source\n",
    "    source_temp = copy.deepcopy(source)\n",
    "    target_temp = copy.deepcopy(target)\n",
    "\n",
    "    # Set color for each model\n",
    "    # Orange\n",
    "    source_temp.paint_uniform_color([1, 0.706, 0])\n",
    "    # Blue\n",
    "    target_temp.paint_uniform_color([0, 0.651, 0.914])\n",
    "     \n",
    "    # Offset Source model and Draw Geometries\n",
    "    source_temp.transform(transformation)\n",
    "    draw_geometries([source_temp, target_temp])\n",
    "\n",
    "def prepare_dataset(voxel_size):\n",
    "    print(\":: Load two point clouds and disturb initial pose.\")\n",
    "    \n",
    "    ##########################################\n",
    "    # Pass in path to point cloud here\n",
    "    ##########################################\n",
    "    source = read_point_cloud(\"seg_after.ply\")\n",
    "    target = read_point_cloud(\"seg_before.ply\")\n",
    "\n",
    "    trans_init = np.asarray([[0.0, 0.0, 1.0, 0.0],\n",
    "                            [1.0, 0.0, 0.0, 0.0],\n",
    "                            [0.0, 1.0, 0.0, 0.0],\n",
    "                            [0.0, 0.0, 0.0, 1.0]])\n",
    "    source.transform(trans_init)\n",
    "    draw_registration_result(source, target, np.identity(4))\n",
    "\n",
    "    print(\":: Downsample with a voxel size %.3f.\" % voxel_size)\n",
    "    source_down = voxel_down_sample(source, voxel_size)\n",
    "    target_down = voxel_down_sample(target, voxel_size)\n",
    "\n",
    "    radius_normal = voxel_size * 2\n",
    "    print(\":: Estimate normal with search radius %.3f.\" % radius_normal)\n",
    "\n",
    "    estimate_normals(source_down, KDTreeSearchParamHybrid(\n",
    "            radius = radius_normal, max_nn = 30))\n",
    "    estimate_normals(target_down, KDTreeSearchParamHybrid(\n",
    "            radius = radius_normal, max_nn = 30))\n",
    "\n",
    "    \n",
    "    radius_feature = voxel_size * 5\n",
    "    print(\":: Compute FPFH feature with search radius %.3f.\" % radius_feature)\n",
    "    source_fpfh = compute_fpfh_feature(source_down,\n",
    "            KDTreeSearchParamHybrid(radius = radius_feature, max_nn = 100))\n",
    "    target_fpfh = compute_fpfh_feature(target_down,\n",
    "            KDTreeSearchParamHybrid(radius = radius_feature, max_nn = 100))\n",
    "    return source, target, source_down, target_down, source_fpfh, target_fpfh\n",
    "\n",
    "def execute_global_registration(\n",
    "        source_down, target_down, source_fpfh, target_fpfh, voxel_size):\n",
    "    distance_threshold = voxel_size * 1.5\n",
    "    print(\":: RANSAC registration on downsampled point clouds.\")\n",
    "    print(\"   Since the downsampling voxel size is %.3f,\" % voxel_size)\n",
    "    print(\"   we use a liberal distance threshold %.3f.\" % distance_threshold)\n",
    "    result = registration_ransac_based_on_feature_matching(\n",
    "            source_down, target_down, source_fpfh, target_fpfh, 0.075,\n",
    "            TransformationEstimationPointToPoint(False), 4,\n",
    "            [CorrespondenceCheckerBasedOnEdgeLength(0.9),\n",
    "            CorrespondenceCheckerBasedOnDistance(0.075)],\n",
    "            RANSACConvergenceCriteria(4000000, 500))\n",
    "    return result\n",
    "\n",
    "def refine_registration(source, target, source_fpfh, target_fpfh, voxel_size):\n",
    "    distance_threshold = voxel_size * 0.4\n",
    "    print(\":: Point-to-plane ICP registration is applied on original point\")\n",
    "    print(\"   clouds to refine the alignment. This time we use a strict\")\n",
    "    print(\"   distance threshold %.3f.\" % distance_threshold)\n",
    "    result = registration_icp(source, target, distance_threshold,\n",
    "            result_ransac.transformation,\n",
    "            TransformationEstimationPointToPlane())\n",
    "    return result"
   ]
  },
  {
   "cell_type": "code",
   "execution_count": 6,
   "metadata": {
    "collapsed": false
   },
   "outputs": [
    {
     "name": "stdout",
     "output_type": "stream",
     "text": [
      ":: Load two point clouds and disturb initial pose.\n",
      ":: Downsample with a voxel size 0.050.\n",
      ":: Estimate normal with search radius 0.100.\n",
      ":: Compute FPFH feature with search radius 0.250.\n",
      ":: RANSAC registration on downsampled point clouds.\n",
      "   Since the downsampling voxel size is 0.050,\n",
      "   we use a liberal distance threshold 0.075.\n",
      "RanSac Results RegistrationResult with fitness = 1.000000, inlier_rmse = 0.023637, and correspondence_set size of 1302\n",
      "Access transformation to get result.\n",
      ":: Point-to-plane ICP registration is applied on original point\n",
      "   clouds to refine the alignment. This time we use a strict\n",
      "   distance threshold 0.020.\n",
      "Refine Registration Results : RegistrationResult with fitness = 0.916004, inlier_rmse = 0.009471, and correspondence_set size of 12432\n",
      "Access transformation to get result.\n",
      "\n",
      "Fitness 0.9160035366931919\n",
      "\n",
      "Inlier Rmse 0.009470693862539872\n",
      "\n",
      "Correspondence Set [[ 8484 28328]\n",
      " [ 8485 17375]\n",
      " [ 8486 17376]\n",
      " ...\n",
      " [ 5088 11123]\n",
      " [ 5089 20257]\n",
      " [ 5090 26678]]\n",
      "Source cordinates [[ 4.01775e+00 -2.67108e-02 -4.98131e-01]\n",
      " [ 4.02868e+00 -2.82544e-03 -4.87828e-01]\n",
      " [ 4.00945e+00 -1.59525e-02 -4.88804e-01]\n",
      " ...\n",
      " [ 3.85569e+00 -1.34459e+00 -1.96083e-01]\n",
      " [ 3.88789e+00 -1.20435e+00 -1.95002e-01]\n",
      " [ 3.45569e+00 -9.48881e-01  7.25161e-02]]\n"
     ]
    }
   ],
   "source": [
    "if __name__ == \"__main__\":\n",
    "    voxel_size = 0.05 # means 5cm for the dataset\n",
    "    source, target, source_down, target_down, source_fpfh, target_fpfh = \\\n",
    "            prepare_dataset(voxel_size)\n",
    "\n",
    "    result_ransac = execute_global_registration(source_down, target_down,\n",
    "            source_fpfh, target_fpfh, voxel_size)\n",
    "\n",
    "    print(\"RanSac Results\", result_ransac)\n",
    "\n",
    "    draw_registration_result(source_down, target_down, result_ransac.transformation)\n",
    "\n",
    "    result_icp = refine_registration(source, target,\n",
    "            source_fpfh, target_fpfh, voxel_size)\n",
    "    print(\"Refine Registration Results :\", result_icp)\n",
    "\n",
    "    print(\"\\nFitness\",result_icp.fitness)\n",
    "    print(\"\\nInlier Rmse\",result_icp.inlier_rmse)\n",
    "    print(\"\\nCorrespondence Set\", np.asarray(result_icp.correspondence_set))\n",
    "\n",
    "    source_cord = np.asarray(source.points)\n",
    "    print(\"Source cordinates\", source_cord)\n",
    "    \n",
    "    draw_registration_result(source, target, result_icp.transformation)"
   ]
  },
  {
   "cell_type": "code",
   "execution_count": null,
   "metadata": {
    "collapsed": true
   },
   "outputs": [],
   "source": []
  },
  {
   "cell_type": "code",
   "execution_count": null,
   "metadata": {
    "collapsed": true
   },
   "outputs": [],
   "source": []
  }
 ],
 "metadata": {
  "kernelspec": {
   "display_name": "Python 3",
   "language": "python",
   "name": "python3"
  },
  "language_info": {
   "codemirror_mode": {
    "name": "ipython",
    "version": 3
   },
   "file_extension": ".py",
   "mimetype": "text/x-python",
   "name": "python",
   "nbconvert_exporter": "python",
   "pygments_lexer": "ipython3",
   "version": "3.5.1"
  }
 },
 "nbformat": 4,
 "nbformat_minor": 2
}
