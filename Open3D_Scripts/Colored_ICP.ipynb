{
 "cells": [
  {
   "cell_type": "code",
   "execution_count": 5,
   "metadata": {
    "collapsed": true
   },
   "outputs": [],
   "source": [
    "import numpy as np\n",
    "import copy\n",
    "from open3d import *"
   ]
  },
  {
   "cell_type": "code",
   "execution_count": 6,
   "metadata": {
    "collapsed": true
   },
   "outputs": [],
   "source": [
    "def draw_registration_result_original_color(source, target, transformation):\n",
    "    source_temp = copy.deepcopy(source)\n",
    "    source_temp.transform(transformation)\n",
    "    draw_geometries([source_temp, target])"
   ]
  },
  {
   "cell_type": "code",
   "execution_count": 7,
   "metadata": {
    "collapsed": false
   },
   "outputs": [
    {
     "name": "stdout",
     "output_type": "stream",
     "text": [
      "1. Load two point clouds and show initial pose\n",
      "2. Point-to-plane ICP registration is applied on original point\n",
      "   clouds to refine the alignment. Distance threshold 0.02.\n",
      "RegistrationResult with fitness = 0.901436, inlier_rmse = 0.009244, and correspondence_set size of 122104\n",
      "Access transformation to get result.\n",
      "3. Colored point cloud registration\n",
      "[50, 0.04, 0]\n",
      "3-1. Downsample with a voxel size 0.04\n",
      "3-2. Estimate normal.\n",
      "3-3. Applying colored point cloud registration\n",
      "RegistrationResult with fitness = 0.922512, inlier_rmse = 0.020180, and correspondence_set size of 3643\n",
      "Access transformation to get result.\n",
      "[30, 0.02, 1]\n",
      "3-1. Downsample with a voxel size 0.02\n",
      "3-2. Estimate normal.\n",
      "3-3. Applying colored point cloud registration\n",
      "RegistrationResult with fitness = 0.793983, inlier_rmse = 0.011451, and correspondence_set size of 11427\n",
      "Access transformation to get result.\n",
      "[14, 0.01, 2]\n",
      "3-1. Downsample with a voxel size 0.01\n",
      "3-2. Estimate normal.\n",
      "3-3. Applying colored point cloud registration\n",
      "RegistrationResult with fitness = 0.539544, inlier_rmse = 0.006387, and correspondence_set size of 24921\n",
      "Access transformation to get result.\n"
     ]
    }
   ],
   "source": [
    "if __name__ == \"__main__\":\n",
    "\n",
    "    print(\"1. Load two point clouds and show initial pose\")\n",
    "    \n",
    "    # Pass in path to pointcloud here\n",
    "    source = read_point_cloud(\"before_lcnHwy.ply\")\n",
    "    target = read_point_cloud(\"after_lcnHwy.ply\")\n",
    "\n",
    "    # draw initial alignment\n",
    "    current_transformation = np.identity(4)\n",
    "    draw_registration_result_original_color(\n",
    "            source, target, current_transformation)\n",
    "\n",
    "    # point to plane ICP\n",
    "    current_transformation = np.identity(4);\n",
    "    print(\"2. Point-to-plane ICP registration is applied on original point\")\n",
    "    print(\"   clouds to refine the alignment. Distance threshold 0.02.\")\n",
    "    result_icp = registration_icp(source, target, 0.02,\n",
    "            current_transformation, TransformationEstimationPointToPlane())\n",
    "    print(result_icp)\n",
    "    draw_registration_result_original_color(\n",
    "            source, target, result_icp.transformation)\n",
    "\n",
    "    # colored pointcloud registration\n",
    "     # This is implementation of following paper\n",
    "     # J. Park, Q.-Y. Zhou, V. Koltun,\n",
    "     # Colored Point Cloud Registration Revisited, ICCV 2017\n",
    "    voxel_radius = [ 0.04, 0.02, 0.01 ];\n",
    "    max_iter = [ 50, 30, 14 ];\n",
    "    current_transformation = np.identity(4)\n",
    "    print(\"3. Colored point cloud registration\")\n",
    "    for scale in range(3):\n",
    "        iter = max_iter[scale]\n",
    "        radius = voxel_radius[scale]\n",
    "        print([iter,radius,scale])\n",
    "\n",
    "        print(\"3-1. Downsample with a voxel size %.2f\" % radius)\n",
    "        source_down = voxel_down_sample(source, radius)\n",
    "        target_down = voxel_down_sample(target, radius)\n",
    "\n",
    "        print(\"3-2. Estimate normal.\")\n",
    "        estimate_normals(source_down, KDTreeSearchParamHybrid(\n",
    "                radius = radius * 2, max_nn = 30))\n",
    "        estimate_normals(target_down, KDTreeSearchParamHybrid(\n",
    "                radius = radius * 2, max_nn = 30))\n",
    "\n",
    "        print(\"3-3. Applying colored point cloud registration\")\n",
    "        result_icp = registration_colored_icp(source_down, target_down,\n",
    "                radius, current_transformation,\n",
    "                ICPConvergenceCriteria(relative_fitness = 1e-6,\n",
    "                relative_rmse = 1e-6, max_iteration = iter))\n",
    "        current_transformation = result_icp.transformation\n",
    "        print(result_icp)\n",
    "    draw_registration_result_original_color(\n",
    "            source, target, result_icp.transformation)"
   ]
  },
  {
   "cell_type": "code",
   "execution_count": null,
   "metadata": {
    "collapsed": true
   },
   "outputs": [],
   "source": []
  }
 ],
 "metadata": {
  "kernelspec": {
   "display_name": "Python 3",
   "language": "python",
   "name": "python3"
  },
  "language_info": {
   "codemirror_mode": {
    "name": "ipython",
    "version": 3
   },
   "file_extension": ".py",
   "mimetype": "text/x-python",
   "name": "python",
   "nbconvert_exporter": "python",
   "pygments_lexer": "ipython3",
   "version": "3.5.1"
  }
 },
 "nbformat": 4,
 "nbformat_minor": 2
}
