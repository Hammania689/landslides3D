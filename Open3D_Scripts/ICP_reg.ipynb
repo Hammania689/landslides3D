{
 "cells": [
  {
   "cell_type": "code",
   "execution_count": 15,
   "metadata": {},
   "outputs": [],
   "source": [
    "from open3d import * \n",
    "import numpy as np\n",
    "import copy"
   ]
  },
  {
   "cell_type": "code",
   "execution_count": 16,
   "metadata": {},
   "outputs": [],
   "source": [
    "def draw_registration_result(source, target, transformation):\n",
    "    source_temp = copy.deepcopy(source)\n",
    "    target_temp = copy.deepcopy(target)\n",
    "    source_temp.paint_uniform_color([1, 0.706, 0])\n",
    "    target_temp.paint_uniform_color([0, 0.651, 0.929])\n",
    "    source_temp.transform(transformation)\n",
    "    draw_geometries([source_temp, target_temp])"
   ]
  },
  {
   "cell_type": "code",
   "execution_count": 17,
   "metadata": {},
   "outputs": [
    {
     "name": "stdout",
     "output_type": "stream",
     "text": [
      "Initial alignment\n",
      "RegistrationResult with fitness = 0.000000, inlier_rmse = 0.000000, and correspondence_set size of 0\n",
      "Access transformation to get result.\n",
      "Apply point-to-point ICP\n",
      "RegistrationResult with fitness = 0.000000, inlier_rmse = 0.000000, and correspondence_set size of 0\n",
      "Access transformation to get result.\n",
      "Transformation is:\n",
      "[[ 0.862  0.011 -0.507  0.5  ]\n",
      " [-0.139  0.967 -0.215  0.7  ]\n",
      " [ 0.487  0.255  0.835 -1.4  ]\n",
      " [ 0.     0.     0.     1.   ]]\n",
      "\n",
      "Apply point-to-plane ICP\n",
      "RegistrationResult with fitness = 0.000000, inlier_rmse = 0.000000, and correspondence_set size of 0\n",
      "Access transformation to get result.\n",
      "Transformation is:\n",
      "[[ 0.862  0.011 -0.507  0.5  ]\n",
      " [-0.139  0.967 -0.215  0.7  ]\n",
      " [ 0.487  0.255  0.835 -1.4  ]\n",
      " [ 0.     0.     0.     1.   ]]\n",
      "\n"
     ]
    }
   ],
   "source": [
    "if __name__ == \"__main__\":\n",
    "    source = read_point_cloud(\"before_lcnHwy.ply\")\n",
    "    target = read_point_cloud(\"after_lcnHwy.ply\")\n",
    "    threshold = 0.02\n",
    "    \n",
    "    trans_init = np.asarray(\n",
    "                [[0.862, 0.011, -0.507,  0.5],\n",
    "                [-0.139, 0.967, -0.215,  0.7],\n",
    "                [0.487, 0.255,  0.835, -1.4],\n",
    "                [0.0, 0.0, 0.0, 1.0]])\n",
    "    draw_registration_result(source, target, trans_init)\n",
    "    \n",
    "    print(\"Initial alignment\")\n",
    "    evaluation = evaluate_registration(source, target,\n",
    "            threshold, trans_init)\n",
    "    print(evaluation)\n",
    "\n",
    "    print(\"Apply point-to-point ICP\")\n",
    "    reg_p2p = registration_icp(source, target, threshold, trans_init,\n",
    "            TransformationEstimationPointToPoint())\n",
    "    print(reg_p2p)\n",
    "    \n",
    "    print(\"Transformation is:\")\n",
    "    print(reg_p2p.transformation)\n",
    "    print(\"\")\n",
    "    \n",
    "    draw_registration_result(source, target, reg_p2p.transformation)\n",
    "\n",
    "    print(\"Apply point-to-plane ICP\")\n",
    "    reg_p2l = registration_icp(source, target, threshold, trans_init,\n",
    "            TransformationEstimationPointToPlane())\n",
    "    print(reg_p2l)\n",
    "    print(\"Transformation is:\")\n",
    "    print(reg_p2l.transformation)\n",
    "    print(\"\")\n",
    "    \n",
    "    draw_registration_result(source, target, reg_p2l.transformation)"
   ]
  }
 ],
 "metadata": {
  "kernelspec": {
   "display_name": "Python 3",
   "language": "python",
   "name": "python3"
  },
  "language_info": {
   "codemirror_mode": {
    "name": "ipython",
    "version": 3
   },
   "file_extension": ".py",
   "mimetype": "text/x-python",
   "name": "python",
   "nbconvert_exporter": "python",
   "pygments_lexer": "ipython3",
   "version": "3.5.4"
  }
 },
 "nbformat": 4,
 "nbformat_minor": 2
}
